{
 "cells": [
  {
   "attachments": {},
   "cell_type": "markdown",
   "metadata": {},
   "source": [
    "# تبدیل فایل سرفصل درسها به صورت مارک داون مناسب\n",
    "\n",
    "## M. Amintoosi"
   ]
  },
  {
   "cell_type": "code",
   "execution_count": 1,
   "metadata": {},
   "outputs": [],
   "source": [
    "# !pip install markdown-strings\n"
   ]
  },
  {
   "cell_type": "code",
   "execution_count": 2,
   "metadata": {},
   "outputs": [],
   "source": [
    "import io\n",
    "import re\n",
    "import markdown_strings\n",
    "import pandas as pd\n"
   ]
  },
  {
   "cell_type": "code",
   "execution_count": null,
   "metadata": {},
   "outputs": [
    {
     "name": "stdout",
     "output_type": "stream",
     "text": [
      "ریاضی عمومی 1\n",
      "Calculus I\n",
      "ریاضی عمومی 2\n",
      "Calculus II\n",
      "معادلات دیفرانسیل\n",
      "Differential Equations\n",
      "مبانی برنامه‌نویسی\n",
      "Fundamentals of Computer Programming\n"
     ]
    },
    {
     "data": {
      "text/html": [
       "<div>\n",
       "<style scoped>\n",
       "    .dataframe tbody tr th:only-of-type {\n",
       "        vertical-align: middle;\n",
       "    }\n",
       "\n",
       "    .dataframe tbody tr th {\n",
       "        vertical-align: top;\n",
       "    }\n",
       "\n",
       "    .dataframe thead th {\n",
       "        text-align: right;\n",
       "    }\n",
       "</style>\n",
       "<table border=\"1\" class=\"dataframe\">\n",
       "  <thead>\n",
       "    <tr style=\"text-align: right;\">\n",
       "      <th></th>\n",
       "      <th>fa_title</th>\n",
       "      <th>en_title</th>\n",
       "      <th>c_type</th>\n",
       "      <th>complementary</th>\n",
       "      <th>prreq</th>\n",
       "      <th>c_point</th>\n",
       "      <th>point_type</th>\n",
       "      <th>c_hours</th>\n",
       "      <th>c_ex</th>\n",
       "      <th>c_goal1</th>\n",
       "      <th>c_goal2</th>\n",
       "      <th>sar_fasl</th>\n",
       "      <th>c_refs</th>\n",
       "    </tr>\n",
       "  </thead>\n",
       "  <tbody>\n",
       "  </tbody>\n",
       "</table>\n",
       "</div>"
      ],
      "text/plain": [
       "Empty DataFrame\n",
       "Columns: [fa_title, en_title, c_type, complementary, prreq, c_point, point_type, c_hours, c_ex, c_goal1, c_goal2, sar_fasl, c_refs]\n",
       "Index: []"
      ]
     },
     "execution_count": 93,
     "metadata": {},
     "output_type": "execute_result"
    }
   ],
   "source": [
    "# Load the file into file_content\n",
    "file_content = [line for line in open('Computer_Science_15_md.md')]\n",
    "col_names = ['fa_title','en_title','c_type','complementary','prreq','coreq',\\\n",
    "                           'c_unit','unit_type','c_hours','c_ex','c_goal1','c_goal2','sar_fasl','c_refs']\n",
    "df = pd.DataFrame(columns=col_names)\n",
    "\n",
    "fa_col_names = ['عنوان درس (فارسی):', 'عنوان درس (انگلیسی):', 'نوع درس:', 'آموزش تکمیلی:','پیش‌نیاز:','هم‌نیاز',\\\n",
    "                 'تعداد واحد:', 'نوع واحد:', 'تعداد ساعت:','حل تمرین:', 'هدف کلی:', 'اهداف ویژه:',\\\n",
    "                      'سر فصل یا رئوس مطالب:','فهرست منابع پیشنهادی:']\n",
    "# df.set_index('fa_title',inplace = True)\n",
    "line_no = 0\n",
    "while line_no < len(file_content):\n",
    "    line = file_content[line_no]\n",
    "    pattern = r\"\\| --- \\|\"\n",
    "    result = re.sub(pattern, \"\", line)\n",
    "    # pattern = r\"\\|\"\n",
    "    # result = re.sub(pattern, \"\", result)\n",
    "    srch_str = \"عنوان درس به فارسی:\"\n",
    "    # print(result.find(srch_str))\n",
    "    if result.find(srch_str) != -1:\n",
    "        start_idx = result.find('</a>') + 4\n",
    "        end_idx = result.rfind('</h3>')\n",
    "        fa_title = result[start_idx:end_idx]\n",
    "        fa_title = re.sub('\\*', '', fa_title)\n",
    "        fa_title = fa_title.strip()\n",
    "        line_no += 1\n",
    "        print(fa_title)\n",
    "        continue\n",
    "\n",
    "    srch_str = \"عنوان درس به انگلیسی:\"\n",
    "    # print(result , result.find(srch_str))\n",
    "    if result.find(srch_str) != -1:\n",
    "        start_idx = result.find('|',1)\n",
    "        end_idx = result.find('|',start_idx+1)\n",
    "        en_title = result[start_idx+1:end_idx]\n",
    "        en_title = re.sub('\\*', '', en_title)\n",
    "        en_title = en_title.strip()\n",
    "        # en_file_name = re.sub('\\&', 'and', en_title)\n",
    "        # en_file_name = re.sub(' ', '-', en_file_name)\n",
    "        print(en_title)\n",
    "\n",
    "        # پیش نیاز\n",
    "        line_no += 1\n",
    "        result = file_content[line_no]\n",
    "        start_idx = result.find('|',1)\n",
    "        start_idx = result.find('|',start_idx+1) # Move to next |\n",
    "        end_idx = result.find('|',start_idx+1)\n",
    "        prreq = result[start_idx+1:end_idx]\n",
    "        prreq = re.sub('\\*', '', prreq)\n",
    "        print(prreq)\n",
    "\n",
    "\n",
    "        continue\n",
    "    \n",
    "    result = result[1:]\n",
    "\n",
    "    if result.find(fa_col_names[2]) != -1:\n",
    "        line_no += 1\n",
    "        line = file_content[line_no]\n",
    "        result = result + line[1:]\n",
    "        result = result.replace(\"\\n\", \"\")\n",
    "        # print(result)\n",
    "    dic_all = {}\n",
    "    for c_no in range(2,9):\n",
    "        col  = fa_col_names[c_no]\n",
    "        srch_str = col\n",
    "        if result.find(srch_str) != -1:\n",
    "            del_idx = result.find('|')\n",
    "            tmp_str = result[len(srch_str)+1:del_idx]\n",
    "            tmp_str = tmp_str.strip()\n",
    "            # print(tmp_str)\n",
    "            # if dic_all:\n",
    "            dic_all.update({col_names[c_no]:tmp_str})\n",
    "            result = result[del_idx+1:]    \n",
    "    if dic_all:\n",
    "        # print('Dic: ', dic_all)\n",
    "        this_course = dic_all.copy()\n",
    "        line_no += 1\n",
    "        continue\n",
    "\n",
    "    srch_str = fa_col_names[-1]\n",
    "    if result.find(srch_str) != -1:\n",
    "        refs = []\n",
    "        line_no += 1\n",
    "        line = file_content[line_no]\n",
    "        while line_no<len(file_content) and line.find(\"عنوان درس (فارسی):\") == -1:\n",
    "            refs.append(line)\n",
    "            line_no += 1\n",
    "            if line_no>= len(file_content):\n",
    "                break\n",
    "            line = file_content[line_no]\n",
    "            # print(line_no)\n",
    "        if line.find(\"عنوان درس (فارسی):\") != -1:\n",
    "            line_no -= 1\n",
    "        # this_course ={'fa_title':fa_title, 'en_title':en_title, 'refs':refs}\n",
    "        this_course.update({'fa_title':fa_title, 'en_title':en_title, 'refs':refs})\n",
    "        df = df.append(this_course,ignore_index=True)\n",
    "    line_no += 1\n",
    "    \n",
    "df"
   ]
  },
  {
   "cell_type": "code",
   "execution_count": 88,
   "metadata": {},
   "outputs": [
    {
     "data": {
      "text/plain": [
       "22"
      ]
     },
     "execution_count": 88,
     "metadata": {},
     "output_type": "execute_result"
    }
   ],
   "source": [
    "result = \"|عنوان درس به انگلیسی:|Calculus I|نوع درس و واحد|\"\n",
    "result.find('|',3)"
   ]
  }
 ],
 "metadata": {
  "kernelspec": {
   "display_name": "pth",
   "language": "python",
   "name": "python3"
  },
  "language_info": {
   "codemirror_mode": {
    "name": "ipython",
    "version": 3
   },
   "file_extension": ".py",
   "mimetype": "text/x-python",
   "name": "python",
   "nbconvert_exporter": "python",
   "pygments_lexer": "ipython3",
   "version": "3.7.11"
  },
  "orig_nbformat": 4
 },
 "nbformat": 4,
 "nbformat_minor": 2
}
