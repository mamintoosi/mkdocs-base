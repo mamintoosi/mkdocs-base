{
 "cells": [
  {
   "attachments": {},
   "cell_type": "markdown",
   "metadata": {},
   "source": [
    "# تبدیل فایل سرفصل درسها به صورت مارک داون مناسب\n",
    "\n",
    "## M. Amintoosi"
   ]
  },
  {
   "cell_type": "code",
   "execution_count": 1,
   "metadata": {},
   "outputs": [],
   "source": [
    "# !pip install markdown-strings\n"
   ]
  },
  {
   "cell_type": "code",
   "execution_count": 2,
   "metadata": {},
   "outputs": [],
   "source": [
    "import io\n",
    "import re\n",
    "import markdown_strings\n",
    "import pandas as pd\n"
   ]
  },
  {
   "cell_type": "code",
   "execution_count": 3,
   "metadata": {},
   "outputs": [
    {
     "data": {
      "text/plain": [
       "'| عنوان درس (فارسی): ریاضی عمومی 1 |\\n| --- |\\n| عنوان درس (انگلیسی): Calculus I |\\n| نوع درس: پایه | آموزش تکمیلی: ندارد | پیشنیاز: ندارد |\\n| تعداد واحد: 4 | نوع واحد: نظری | تعداد ساعت: 48 | حل تمرین: دارد |\\n\\n**اهداف کلی درس** : آشنایی با توابع حقیقی، دنباله\\u200cها و سری\\u200cها و خصوصیات آن\\u200cها و مقدمه\\u200cای بر اعداد مختلط\\n\\n**اهداف رفتاری** : دانشجو باید بتواند از مفاهیم حد، مشتق، انتگرال و سری\\u200cها برای حل مسائل کاربردی استفاده نماید.\\n\\n**سرفصل یا رئوس مطالب** :\\n\\n|\\n- اعداد مختلط: معرفی اعداد مختلط- فرم قطبی و فرمول دموآور - اعمال جبری و ریشهnام – رسم ناحیه\\u200cها – اثبات برخی از روابط مثلثاتی با کمک اعداد مختلط\\n- اثبات برخی از روابط مثلثاتی با کمک اعداد مختلط\\n- حد، پیوستگی: با تأکید بر قضیه فشار، قضیه مقدار اکسترمم ، قضیه مقدار میانی\\n- مشتق و کاربرد مشتق: با تأکید بر قضیه رل - قضیه مقدارمیانگین- تغییرات وابسته به یکدیگر- اکسترمم های مطلق - حل مسائل مقدار میانگین – قضیه هوپیتال - مدلسازی برخی از مسایل و حل آنها-تقریب خطی\\n- انتگرال گیری: تعریف انتگرال معین- قضیه مقدار میانگین برای انتگرال - قضیه اساسی حسابان\\n- توابع نمایی و لگاریتمی و توابع هذلولوی : تعریف توابع نمایی و لگاریتمی و خواص آنها، توابع مثلثاتی هذلولوی و معکوس آنها\\n- روشهای انتگرال گیری و اتتگرال\\u200cهای ناسره: روش های تغییر متغیر- روش جزء به جزء - روش تغییر متغیرهای مثلثاتی- روش تجزیه کسرها-انتگرال های ناسره و همگرایی آنها – آزمون مقایسه و مقایسه حدی برای همگرایی، انتگرال های ناسره\\n- کاربردهای انتگرال: محاسبه حجم با استفاده از برش- حجم اجسام دوار- طول قوس- مساحت رویه و رویه\\u200cهای دوار- جرم و چگالی-گشتاور و مرکز جرم\\n- دنباله ها و سری\\u200cهای عددی: تعریف دنباله و همگرایی- دنباله های بازگشتی- سری ها و همگرایی آنها- آزمون های همگرایی- همگرایی مطلق و مشروط - آزمون سری های متناوب\\n- سری های توانی: تعریف سری توانی- شعاع و بازه همگرایی- مشتق گیری و انتگرال گیری از سری توانی-سری های تیلور و مک لورن- کاربردهای سری تیلور و مک لورن - قضیه آبل در مورد سری های توانی\\n |\\n| --- |\\n\\n**منابع** :\\n\\n| Robert Adams, Christopher Essex, Calculus: A Complete Course, (7th Edition), Pearson Education, Canada, 2009. |\\n| --- |\\n\\n| عنوان درس (فارسی): ریاضی عمومی **2** |\\n| --- |\\n| عنوان درس (انگلیسی): Calculus II |\\n| نوع درس: پایه | آموزش تکمیلی: ندارد | پیشنیاز: ریاضی عمومی 1 |\\n| تعداد واحد: 4 | نوع واحد: نظری | تعداد ساعت: 48 | حل تمرین: دارد |\\n\\n**اهداف کلی درس** : آشنایی با محاسبات توابع چند متغیره\\n\\n**اهداف رفتاری** : دانشجو باید بتواند با توابع چند متغیره کار کند و از مفاهیم حد، مشتق، انتگرال توابع چند متغیره برای حل مسائل کاربردی استفاده نماید.\\n\\n**سرفصل یا رئوس مطالب** :\\n\\n|\\n- یاد آوری هندسه تحلیلی در فضای سه بعدی\\n- هندسه دیفرانسیل\\n- توابع چند متغیره\\n- مشتق\\n- انتگرال چندگانه\\n- انتگرال روی خم و سطح\\n- آنالیز برداری\\n- جبرخطی\\n |\\n| --- |\\n\\n**منابع** :\\n\\n| Robert Adams, Christopher Essex, Calculus: A Complete Course, (7th Edition), Pearson Education, Canada, 2009. |\\n| --- |\\n\\n| عنوان درس (فارسی): معادلات دیفرانسیل |\\n| --- |\\n| عنوان درس (انگلیسی): Differential Equations |\\n| نوع درس: پایه | آموزش تکمیلی: ندارد | پیشنیاز: هم\\u200cنیاز با ریاضی عمومی 2 |\\n| تعداد واحد: 3 | نوع واحد: نظری | تعداد ساعت: 48 | حل تمرین: دارد |\\n\\n**اهداف کلی درس** : آشنایی با برخی معادلات دیفرانسیل معمولی و روشهای حل آن\\n\\n**اهداف رفتاری** : قوانین طبیعت بر حسب معادلات دیفرانسیل بیان میشوند. دانشجویان باید بتوانند این معادلات را بشناسند و با روش\\u200cهای مختلف آنها را تجزیه و تحلیل نمایند. تنها به روشهای حل معادلات تمرکز نشود، بلکه بحث مدلسازی به صورت پررنگ پوشش داده شود.\\n\\n**سرفصل یا رئوس مطالب** :\\n\\n|\\n- مفاهیم و تعاریف اولیه\\n- معادلات جداپذیر و معادلات همگن، مدلسازی در علوم دیگر\\n- معادلات کامل و عامل انتگرال\\u200cساز\\n- معادلات خطی مرتبه اول\\n- معادلات غیرخطی مرتبه اول و حالات خاص آن، مدلسازی در علوم دیگر\\n- معادلات مرتبه دوم و بالاتر، مدلسازی در علوم دیگر\\n- حل معادلات مرتبه دوم با ضرایب ثابت و متغیر\\n- حل معادلات مرتبه دوم و بالاتر خطی ناهمگن\\n- حل معادله کوشی-اویلر و بررسی چند حالت خاص در حل معادلات مرتبه دوم و بالاتر\\n- حل معادلات دیفرانسیل به کمک سریها\\n- معادله لژاندر\\n- سری فروبنیوس\\n- معادله بسل\\n- تبدیل لاپلاس و کاربردهای آن\\n- دستگاه خطی از معادلات دیفرانسیل\\n |\\n| --- |\\n\\n**منابع** :\\n\\n| William E. Boyce, Richard C. DiPrima, Elementary Differential Equations, 10th Edition, WILEY, 2012. |\\n| --- |\\n\\n| عنوان درس (فارسی): مبانی کامپیوتر برنامه\\u200cسازی |\\n| --- |\\n| عنوان درس (انگلیسی): Introduction to Computer & Programming |\\n| نوع درس: پایه | آموزش تکمیلی: دارد | پیشنیاز: ندارد |\\n| تعداد واحد: 3 | نوع واحد: نظری | تعداد ساعت: 48 | حل تمرین: دارد |\\n\\n**اهداف کلی درس** : آشنایی با الگوریتمها و پیاده سازی آنها در یک زبان پیشرفته مانند C\\n\\n**اهداف رفتاری** : دانشجو باید بتواند به راحتی از اصول و ساختارهای برنامه نویسی به صورت عملی استفاده کند. درک حل مساله با الگوریتم مورد توجه قرار بگیرد.\\n\\n**سرفصل یا رئوس مطالب** :\\n\\n|\\n- مقدمه ای بر الگوریتم\\n- متغیرها\\n- ورودی خروجی\\n- ساختارهای کنترلی\\n- ساختارهای تکرار\\n- دامنه متغیرها\\n- توابع معمولی و بازگشتی\\n- آرایه\\u200cها و به\\u200cکارگیری آن\\u200cها در توابع\\n- اشاره\\u200cگرها و ارتباط با رشته\\u200cها و آرایه\\u200cها\\n- کاراکترها و رشته\\u200cها\\n- فایل\\u200cها و پردازش روی فایل\\u200cها\\n- ساختارها و نحوه استفاده از ساختارها و توابع و فایل\\n |\\n| --- |\\n\\n**منابع** :\\n\\n| Deitel, Paul, and Harvey Deitel., C How to Program, 8th Edition, Prentice Hall, 2016. |\\n| --- |\\n\\n'"
      ]
     },
     "execution_count": 3,
     "metadata": {},
     "output_type": "execute_result"
    }
   ],
   "source": [
    "file_name = \"index.md\"\n",
    "file = io.open(file_name, encoding='utf-8')\n",
    "data = file.read()\n",
    "data\n"
   ]
  },
  {
   "cell_type": "code",
   "execution_count": 4,
   "metadata": {},
   "outputs": [
    {
     "data": {
      "text/plain": [
       "' عنوان درس (فارسی): ریاضی عمومی 1 \\n\\n عنوان درس (انگلیسی): Calculus I \\n نوع درس: پایه  آموزش تکمیلی: ندارد  پیشنیاز: ندارد \\n تعداد واحد: 4  نوع واحد: نظری  تعداد ساعت: 48  حل تمرین: دارد \\n\\n**اهداف کلی درس** : آشنایی با توابع حقیقی، دنباله\\u200cها و سری\\u200cها و خصوصیات آن\\u200cها و مقدمه\\u200cای بر اعداد مختلط\\n\\n**اهداف رفتاری** : دانشجو باید بتواند از مفاهیم حد، مشتق، انتگرال و سری\\u200cها برای حل مسائل کاربردی استفاده نماید.\\n\\n**سرفصل یا رئوس مطالب** :\\n\\n\\n- اعداد مختلط: معرفی اعداد مختلط- فرم قطبی و فرمول دموآور - اعمال جبری و ریشهnام – رسم ناحیه\\u200cها – اثبات برخی از روابط مثلثاتی با کمک اعداد مختلط\\n- اثبات برخی از روابط مثلثاتی با کمک اعداد مختلط\\n- حد، پیوستگی: با تأکید بر قضیه فشار، قضیه مقدار اکسترمم ، قضیه مقدار میانی\\n- مشتق و کاربرد مشتق: با تأکید بر قضیه رل - قضیه مقدارمیانگین- تغییرات وابسته به یکدیگر- اکسترمم های مطلق - حل مسائل مقدار میانگین – قضیه هوپیتال - مدلسازی برخی از مسایل و حل آنها-تقریب خطی\\n- انتگرال گیری: تعریف انتگرال معین- قضیه مقدار میانگین برای انتگرال - قضیه اساسی حسابان\\n- توابع نمایی و لگاریتمی و توابع هذلولوی : تعریف توابع نمایی و لگاریتمی و خواص آنها، توابع مثلثاتی هذلولوی و معکوس آنها\\n- روشهای انتگرال گیری و اتتگرال\\u200cهای ناسره: روش های تغییر متغیر- روش جزء به جزء - روش تغییر متغیرهای مثلثاتی- روش تجزیه کسرها-انتگرال های ناسره و همگرایی آنها – آزمون مقایسه و مقایسه حدی برای همگرایی، انتگرال های ناسره\\n- کاربردهای انتگرال: محاسبه حجم با استفاده از برش- حجم اجسام دوار- طول قوس- مساحت رویه و رویه\\u200cهای دوار- جرم و چگالی-گشتاور و مرکز جرم\\n- دنباله ها و سری\\u200cهای عددی: تعریف دنباله و همگرایی- دنباله های بازگشتی- سری ها و همگرایی آنها- آزمون های همگرایی- همگرایی مطلق و مشروط - آزمون سری های متناوب\\n- سری های توانی: تعریف سری توانی- شعاع و بازه همگرایی- مشتق گیری و انتگرال گیری از سری توانی-سری های تیلور و مک لورن- کاربردهای سری تیلور و مک لورن - قضیه آبل در مورد سری های توانی\\n \\n\\n\\n**منابع** :\\n\\n Robert Adams, Christopher Essex, Calculus: A Complete Course, (7th Edition), Pearson Education, Canada, 2009. \\n\\n\\n عنوان درس (فارسی): ریاضی عمومی **2** \\n\\n عنوان درس (انگلیسی): Calculus II \\n نوع درس: پایه  آموزش تکمیلی: ندارد  پیشنیاز: ریاضی عمومی 1 \\n تعداد واحد: 4  نوع واحد: نظری  تعداد ساعت: 48  حل تمرین: دارد \\n\\n**اهداف کلی درس** : آشنایی با محاسبات توابع چند متغیره\\n\\n**اهداف رفتاری** : دانشجو باید بتواند با توابع چند متغیره کار کند و از مفاهیم حد، مشتق، انتگرال توابع چند متغیره برای حل مسائل کاربردی استفاده نماید.\\n\\n**سرفصل یا رئوس مطالب** :\\n\\n\\n- یاد آوری هندسه تحلیلی در فضای سه بعدی\\n- هندسه دیفرانسیل\\n- توابع چند متغیره\\n- مشتق\\n- انتگرال چندگانه\\n- انتگرال روی خم و سطح\\n- آنالیز برداری\\n- جبرخطی\\n \\n\\n\\n**منابع** :\\n\\n Robert Adams, Christopher Essex, Calculus: A Complete Course, (7th Edition), Pearson Education, Canada, 2009. \\n\\n\\n عنوان درس (فارسی): معادلات دیفرانسیل \\n\\n عنوان درس (انگلیسی): Differential Equations \\n نوع درس: پایه  آموزش تکمیلی: ندارد  پیشنیاز: هم\\u200cنیاز با ریاضی عمومی 2 \\n تعداد واحد: 3  نوع واحد: نظری  تعداد ساعت: 48  حل تمرین: دارد \\n\\n**اهداف کلی درس** : آشنایی با برخی معادلات دیفرانسیل معمولی و روشهای حل آن\\n\\n**اهداف رفتاری** : قوانین طبیعت بر حسب معادلات دیفرانسیل بیان میشوند. دانشجویان باید بتوانند این معادلات را بشناسند و با روش\\u200cهای مختلف آنها را تجزیه و تحلیل نمایند. تنها به روشهای حل معادلات تمرکز نشود، بلکه بحث مدلسازی به صورت پررنگ پوشش داده شود.\\n\\n**سرفصل یا رئوس مطالب** :\\n\\n\\n- مفاهیم و تعاریف اولیه\\n- معادلات جداپذیر و معادلات همگن، مدلسازی در علوم دیگر\\n- معادلات کامل و عامل انتگرال\\u200cساز\\n- معادلات خطی مرتبه اول\\n- معادلات غیرخطی مرتبه اول و حالات خاص آن، مدلسازی در علوم دیگر\\n- معادلات مرتبه دوم و بالاتر، مدلسازی در علوم دیگر\\n- حل معادلات مرتبه دوم با ضرایب ثابت و متغیر\\n- حل معادلات مرتبه دوم و بالاتر خطی ناهمگن\\n- حل معادله کوشی-اویلر و بررسی چند حالت خاص در حل معادلات مرتبه دوم و بالاتر\\n- حل معادلات دیفرانسیل به کمک سریها\\n- معادله لژاندر\\n- سری فروبنیوس\\n- معادله بسل\\n- تبدیل لاپلاس و کاربردهای آن\\n- دستگاه خطی از معادلات دیفرانسیل\\n \\n\\n\\n**منابع** :\\n\\n William E. Boyce, Richard C. DiPrima, Elementary Differential Equations, 10th Edition, WILEY, 2012. \\n\\n\\n عنوان درس (فارسی): مبانی کامپیوتر برنامه\\u200cسازی \\n\\n عنوان درس (انگلیسی): Introduction to Computer & Programming \\n نوع درس: پایه  آموزش تکمیلی: دارد  پیشنیاز: ندارد \\n تعداد واحد: 3  نوع واحد: نظری  تعداد ساعت: 48  حل تمرین: دارد \\n\\n**اهداف کلی درس** : آشنایی با الگوریتمها و پیاده سازی آنها در یک زبان پیشرفته مانند C\\n\\n**اهداف رفتاری** : دانشجو باید بتواند به راحتی از اصول و ساختارهای برنامه نویسی به صورت عملی استفاده کند. درک حل مساله با الگوریتم مورد توجه قرار بگیرد.\\n\\n**سرفصل یا رئوس مطالب** :\\n\\n\\n- مقدمه ای بر الگوریتم\\n- متغیرها\\n- ورودی خروجی\\n- ساختارهای کنترلی\\n- ساختارهای تکرار\\n- دامنه متغیرها\\n- توابع معمولی و بازگشتی\\n- آرایه\\u200cها و به\\u200cکارگیری آن\\u200cها در توابع\\n- اشاره\\u200cگرها و ارتباط با رشته\\u200cها و آرایه\\u200cها\\n- کاراکترها و رشته\\u200cها\\n- فایل\\u200cها و پردازش روی فایل\\u200cها\\n- ساختارها و نحوه استفاده از ساختارها و توابع و فایل\\n \\n\\n\\n**منابع** :\\n\\n Deitel, Paul, and Harvey Deitel., C How to Program, 8th Edition, Prentice Hall, 2016. \\n\\n\\n'"
      ]
     },
     "execution_count": 4,
     "metadata": {},
     "output_type": "execute_result"
    }
   ],
   "source": [
    "pattern = r\"\\| --- \\|\"\n",
    "result = re.sub(pattern, \"\", data)\n",
    "pattern = r\"\\|\"\n",
    "result = re.sub(pattern, \"\", result)\n",
    "result\n"
   ]
  },
  {
   "cell_type": "code",
   "execution_count": null,
   "metadata": {},
   "outputs": [],
   "source": []
  },
  {
   "cell_type": "code",
   "execution_count": 5,
   "metadata": {},
   "outputs": [
    {
     "data": {
      "text/plain": [
       "['عنوان درس (فارسی): ریاضی عمومی 1 \\n',\n",
       " 'عنوان درس (فارسی): ریاضی عمومی **2** \\n',\n",
       " 'عنوان درس (فارسی): معادلات دیفرانسیل \\n',\n",
       " 'عنوان درس (فارسی): مبانی کامپیوتر برنامه\\u200cسازی \\n']"
      ]
     },
     "execution_count": 5,
     "metadata": {},
     "output_type": "execute_result"
    }
   ],
   "source": [
    "start_str = \"عنوان درس \\(فارسی\\)\"\n",
    "# end_str = \"عنوان درس \\(انگلیسی\\)\"\n",
    "end_str = \"\\n\"\n",
    "pattern = start_str+\".*\"+end_str\n",
    "matches = re.findall(pattern, result)\n",
    "matches\n"
   ]
  },
  {
   "cell_type": "code",
   "execution_count": 6,
   "metadata": {},
   "outputs": [
    {
     "name": "stdout",
     "output_type": "stream",
     "text": [
      " ریاضی عمومی 1 \n",
      "\n",
      " ریاضی عمومی **2** \n",
      "\n",
      " معادلات دیفرانسیل \n",
      "\n",
      " مبانی کامپیوتر برنامه‌سازی \n",
      "\n"
     ]
    }
   ],
   "source": [
    "start_str = \"عنوان درس (فارسی):\"\n",
    "# end_str = \"\\n\"\n",
    "\n",
    "text = result\n",
    "for m in matches:\n",
    "    lesson_name_fa = m[len(start_str):]\n",
    "    print(lesson_name_fa)\n"
   ]
  },
  {
   "cell_type": "code",
   "execution_count": 7,
   "metadata": {},
   "outputs": [],
   "source": [
    "# pattern = re.compile(fr\"{start_str}.*{end_str}\",re.UNICODE)\n",
    "# matches = pattern.findall(result)\n",
    "# matches\n"
   ]
  },
  {
   "cell_type": "code",
   "execution_count": 8,
   "metadata": {},
   "outputs": [
    {
     "data": {
      "text/plain": [
       "['عنوان درس (فارسی): ریاضی عمومی 1 \\n',\n",
       " 'عنوان درس (فارسی): ریاضی عمومی **2** \\n',\n",
       " 'عنوان درس (فارسی): معادلات دیفرانسیل \\n',\n",
       " 'عنوان درس (فارسی): مبانی کامپیوتر برنامه\\u200cسازی \\n']"
      ]
     },
     "execution_count": 8,
     "metadata": {},
     "output_type": "execute_result"
    }
   ],
   "source": [
    "matches\n"
   ]
  },
  {
   "cell_type": "code",
   "execution_count": 9,
   "metadata": {},
   "outputs": [
    {
     "name": "stdout",
     "output_type": "stream",
     "text": [
      "Calculus-I\n",
      "\n",
      "Calculus-II\n",
      "\n",
      "Differential-Equations\n",
      "\n",
      "Introduction-to-Computer-and-Programming\n",
      "\n"
     ]
    }
   ],
   "source": [
    "# Load the file into file_content\n",
    "file_content = [line for line in open('index.md')]\n",
    "\n",
    "# Overwrite it\n",
    "writer = open('data.md', 'w')\n",
    "lesson_writer = None\n",
    "start_writing = False\n",
    "\n",
    "for line in file_content:\n",
    "    # We search for the correct section\n",
    "    pattern = r\"\\| --- \\|\"\n",
    "    result = re.sub(pattern, \"\", line)\n",
    "    pattern = r\"\\|\"\n",
    "    result = re.sub(pattern, \"\", result)\n",
    "\n",
    "    start_str = \"عنوان درس \\(فارسی\\)\"\n",
    "    end_str = \"\\n\"\n",
    "    pattern = start_str+\".*\"+end_str\n",
    "    matches = re.findall(pattern, result)\n",
    "    if matches:\n",
    "        start_str = \"عنوان درس (فارسی):\"\n",
    "        m = matches[0]\n",
    "        lesson_name_fa = m[len(start_str):]\n",
    "        lesson_name_fa = re.sub('\\*', '', lesson_name_fa)\n",
    "        # print(lesson_name_fa)\n",
    "        # result = markdown_strings.header(lesson_name_fa, 1)\n",
    "        start_writing = False\n",
    "\n",
    "\n",
    "    start_str = \"عنوان درس \\(انگلیسی\\)\"\n",
    "    end_str = \"\\n\"\n",
    "    pattern = start_str+\".*\"+end_str\n",
    "    matches = re.findall(pattern, result)\n",
    "    if matches:\n",
    "        start_str = \"عنوان درس (انگلیسی):\"\n",
    "        m = matches[0]\n",
    "        lesson_name_en = m[len(start_str):]\n",
    "        lesson_name_en = lesson_name_en.strip()\n",
    "        lesson_name_en = re.sub('\\*', '', lesson_name_en)\n",
    "        lesson_name_en = re.sub('\\&', 'and', lesson_name_en)\n",
    "        lesson_name_en = re.sub(' ', '-', lesson_name_en)\n",
    "        lesson_file_name = lesson_name_en+'.md'\n",
    "        if lesson_writer:\n",
    "            lesson_writer.close()\n",
    "        lesson_writer = open(lesson_file_name, 'w')\n",
    "        start_writing = True\n",
    "\n",
    "        lesson_name_en += '\\n'\n",
    "        print(lesson_name_en)\n",
    "        result = markdown_strings.header(lesson_name_fa, 1)\n",
    "        lesson_writer.write(result)\n",
    "        result = markdown_strings.header(lesson_name_en, 2)\n",
    "    if start_writing:\n",
    "        lesson_writer.write(result)\n",
    "    writer.write(result)\n",
    "\n",
    "if lesson_writer:\n",
    "    lesson_writer.close()\n",
    "writer.close()\n"
   ]
  },
  {
   "cell_type": "code",
   "execution_count": 66,
   "metadata": {},
   "outputs": [
    {
     "data": {
      "text/html": [
       "<div>\n",
       "<style scoped>\n",
       "    .dataframe tbody tr th:only-of-type {\n",
       "        vertical-align: middle;\n",
       "    }\n",
       "\n",
       "    .dataframe tbody tr th {\n",
       "        vertical-align: top;\n",
       "    }\n",
       "\n",
       "    .dataframe thead th {\n",
       "        text-align: right;\n",
       "    }\n",
       "</style>\n",
       "<table border=\"1\" class=\"dataframe\">\n",
       "  <thead>\n",
       "    <tr style=\"text-align: right;\">\n",
       "      <th></th>\n",
       "      <th>fa_title</th>\n",
       "      <th>en_title</th>\n",
       "      <th>c_type</th>\n",
       "      <th>complementary</th>\n",
       "      <th>prreq</th>\n",
       "      <th>c_point</th>\n",
       "      <th>point_type</th>\n",
       "      <th>c_hours</th>\n",
       "      <th>c_ex</th>\n",
       "      <th>c_goal1</th>\n",
       "      <th>c_goal2</th>\n",
       "      <th>sar_fasl</th>\n",
       "      <th>c_refs</th>\n",
       "      <th>refs</th>\n",
       "    </tr>\n",
       "  </thead>\n",
       "  <tbody>\n",
       "    <tr>\n",
       "      <th>0</th>\n",
       "      <td>ریاضی عمومی 1</td>\n",
       "      <td>Calculus I</td>\n",
       "      <td>پایه</td>\n",
       "      <td>ندارد</td>\n",
       "      <td>ندارد</td>\n",
       "      <td>4</td>\n",
       "      <td>نظری</td>\n",
       "      <td>48</td>\n",
       "      <td>دارد</td>\n",
       "      <td>NaN</td>\n",
       "      <td>NaN</td>\n",
       "      <td>NaN</td>\n",
       "      <td>NaN</td>\n",
       "      <td>[\\n, | Robert Adams, Christopher Essex, Calcul...</td>\n",
       "    </tr>\n",
       "    <tr>\n",
       "      <th>1</th>\n",
       "      <td>ریاضی عمومی 2</td>\n",
       "      <td>Calculus II</td>\n",
       "      <td>پایه</td>\n",
       "      <td>ندارد</td>\n",
       "      <td>ریاضی عمومی 1</td>\n",
       "      <td>4</td>\n",
       "      <td>نظری</td>\n",
       "      <td>48</td>\n",
       "      <td>دارد</td>\n",
       "      <td>NaN</td>\n",
       "      <td>NaN</td>\n",
       "      <td>NaN</td>\n",
       "      <td>NaN</td>\n",
       "      <td>[\\n, | Robert Adams, Christopher Essex, Calcul...</td>\n",
       "    </tr>\n",
       "    <tr>\n",
       "      <th>2</th>\n",
       "      <td>معادلات دیفرانسیل</td>\n",
       "      <td>Differential Equations</td>\n",
       "      <td>پایه</td>\n",
       "      <td>ندارد</td>\n",
       "      <td>هم‌نیاز با ریاضی عمومی 2</td>\n",
       "      <td>3</td>\n",
       "      <td>نظری</td>\n",
       "      <td>48</td>\n",
       "      <td>دارد</td>\n",
       "      <td>NaN</td>\n",
       "      <td>NaN</td>\n",
       "      <td>NaN</td>\n",
       "      <td>NaN</td>\n",
       "      <td>[\\n, | William E. Boyce, Richard C. DiPrima, E...</td>\n",
       "    </tr>\n",
       "    <tr>\n",
       "      <th>3</th>\n",
       "      <td>مبانی کامپیوتر برنامه‌سازی</td>\n",
       "      <td>Introduction to Computer &amp; Programming</td>\n",
       "      <td>پایه</td>\n",
       "      <td>دارد</td>\n",
       "      <td>ندارد</td>\n",
       "      <td>3</td>\n",
       "      <td>نظری</td>\n",
       "      <td>48</td>\n",
       "      <td>دارد</td>\n",
       "      <td>NaN</td>\n",
       "      <td>NaN</td>\n",
       "      <td>NaN</td>\n",
       "      <td>NaN</td>\n",
       "      <td>[\\n, | Deitel, Paul, and Harvey Deitel., C How...</td>\n",
       "    </tr>\n",
       "  </tbody>\n",
       "</table>\n",
       "</div>"
      ],
      "text/plain": [
       "                     fa_title                                en_title c_type  \\\n",
       "0               ریاضی عمومی 1                              Calculus I   پایه   \n",
       "1               ریاضی عمومی 2                             Calculus II   پایه   \n",
       "2           معادلات دیفرانسیل                  Differential Equations   پایه   \n",
       "3  مبانی کامپیوتر برنامه‌سازی  Introduction to Computer & Programming   پایه   \n",
       "\n",
       "  complementary                     prreq c_point point_type c_hours  c_ex  \\\n",
       "0         ندارد                     ندارد       4       نظری      48  دارد   \n",
       "1         ندارد             ریاضی عمومی 1       4       نظری      48  دارد   \n",
       "2         ندارد  هم‌نیاز با ریاضی عمومی 2       3       نظری      48  دارد   \n",
       "3          دارد                     ندارد       3       نظری      48  دارد   \n",
       "\n",
       "  c_goal1 c_goal2 sar_fasl c_refs  \\\n",
       "0     NaN     NaN      NaN    NaN   \n",
       "1     NaN     NaN      NaN    NaN   \n",
       "2     NaN     NaN      NaN    NaN   \n",
       "3     NaN     NaN      NaN    NaN   \n",
       "\n",
       "                                                refs  \n",
       "0  [\\n, | Robert Adams, Christopher Essex, Calcul...  \n",
       "1  [\\n, | Robert Adams, Christopher Essex, Calcul...  \n",
       "2  [\\n, | William E. Boyce, Richard C. DiPrima, E...  \n",
       "3  [\\n, | Deitel, Paul, and Harvey Deitel., C How...  "
      ]
     },
     "execution_count": 66,
     "metadata": {},
     "output_type": "execute_result"
    }
   ],
   "source": [
    "# Load the file into file_content\n",
    "file_content = [line for line in open('index.md')]\n",
    "col_names = ['fa_title','en_title','c_type','complementary','prreq',\\\n",
    "                           'c_point','point_type','c_hours','c_ex','c_goal1','c_goal2','sar_fasl','c_refs']\n",
    "df = pd.DataFrame(columns=col_names)\n",
    "\n",
    "fa_col_names = ['عنوان درس (فارسی):', 'عنوان درس (انگلیسی):', 'نوع درس:', 'آموزش تکمیلی:','پیشنیاز:',\\\n",
    "                 'تعداد واحد:', 'نوع واحد:', 'تعداد ساعت:','حل تمرین:', 'هدف کلی:', 'اهداف ویژه:',\\\n",
    "                      'سر فصل یا رئوس مطالب:','فهرست منابع پیشنهادی:']\n",
    "# df.set_index('fa_title',inplace = True)\n",
    "line_no = 0\n",
    "while line_no < len(file_content):\n",
    "    line = file_content[line_no]\n",
    "    pattern = r\"\\| --- \\|\"\n",
    "    result = re.sub(pattern, \"\", line)\n",
    "    # pattern = r\"\\|\"\n",
    "    # result = re.sub(pattern, \"\", result)\n",
    "    srch_str = \"عنوان درس (فارسی):\"\n",
    "    # print(result.find(srch_str))\n",
    "    if result.find(srch_str) != -1:\n",
    "        del_idx = result.rfind('|')\n",
    "        fa_title = result[len(srch_str)+2:del_idx]\n",
    "        fa_title = re.sub('\\*', '', fa_title)\n",
    "        fa_title = fa_title.strip()\n",
    "        line_no += 1\n",
    "        continue\n",
    "\n",
    "    srch_str = \"عنوان درس (انگلیسی):\"\n",
    "    if result.find(srch_str) != -1:\n",
    "        del_idx = result.rfind('|')\n",
    "        en_title = result[len(srch_str)+2:del_idx]\n",
    "        en_title = re.sub('\\*', '', en_title)\n",
    "        en_title = en_title.strip()\n",
    "        # en_file_name = re.sub('\\&', 'and', en_title)\n",
    "        # en_file_name = re.sub(' ', '-', en_file_name)\n",
    "        line_no += 1\n",
    "        continue\n",
    "    \n",
    "    # tmp_dic = \n",
    "    # Remove leading |\n",
    "    result = result[1:]\n",
    "\n",
    "    if result.find(fa_col_names[2]) != -1:\n",
    "        line_no += 1\n",
    "        line = file_content[line_no]\n",
    "        result = result + line[1:]\n",
    "        result = result.replace(\"\\n\", \"\")\n",
    "        # print(result)\n",
    "    dic_all = {}\n",
    "    for c_no in range(2,9):\n",
    "        col  = fa_col_names[c_no]\n",
    "        srch_str = col\n",
    "        if result.find(srch_str) != -1:\n",
    "            del_idx = result.find('|')\n",
    "            tmp_str = result[len(srch_str)+1:del_idx]\n",
    "            tmp_str = tmp_str.strip()\n",
    "            # print(tmp_str)\n",
    "            # if dic_all:\n",
    "            dic_all.update({col_names[c_no]:tmp_str})\n",
    "            result = result[del_idx+1:]    \n",
    "    if dic_all:\n",
    "        # print('Dic: ', dic_all)\n",
    "        this_course = dic_all.copy()\n",
    "        line_no += 1\n",
    "        continue\n",
    "\n",
    "    srch_str = \"*منابع*\"\n",
    "    if result.find(srch_str) != -1:\n",
    "        refs = []\n",
    "        line_no += 1\n",
    "        line = file_content[line_no]\n",
    "        while line_no<len(file_content) and line.find(\"عنوان درس (فارسی):\") == -1:\n",
    "            refs.append(line)\n",
    "            line_no += 1\n",
    "            if line_no>= len(file_content):\n",
    "                break\n",
    "            line = file_content[line_no]\n",
    "            # print(line_no)\n",
    "        if line.find(\"عنوان درس (فارسی):\") != -1:\n",
    "            line_no -= 1\n",
    "        # this_course ={'fa_title':fa_title, 'en_title':en_title, 'refs':refs}\n",
    "        this_course.update({'fa_title':fa_title, 'en_title':en_title, 'refs':refs})\n",
    "        df = df.append(this_course,ignore_index=True)\n",
    "    line_no += 1\n",
    "    \n",
    "df"
   ]
  },
  {
   "cell_type": "code",
   "execution_count": null,
   "metadata": {},
   "outputs": [],
   "source": []
  },
  {
   "cell_type": "code",
   "execution_count": 93,
   "metadata": {},
   "outputs": [
    {
     "name": "stdout",
     "output_type": "stream",
     "text": [
      "ریاضی عمومی 1\n",
      "Calculus I\n",
      "ریاضی عمومی 2\n",
      "Calculus II\n",
      "معادلات دیفرانسیل\n",
      "Differential Equations\n",
      "مبانی برنامه‌نویسی\n",
      "Fundamentals of Computer Programming\n"
     ]
    },
    {
     "data": {
      "text/html": [
       "<div>\n",
       "<style scoped>\n",
       "    .dataframe tbody tr th:only-of-type {\n",
       "        vertical-align: middle;\n",
       "    }\n",
       "\n",
       "    .dataframe tbody tr th {\n",
       "        vertical-align: top;\n",
       "    }\n",
       "\n",
       "    .dataframe thead th {\n",
       "        text-align: right;\n",
       "    }\n",
       "</style>\n",
       "<table border=\"1\" class=\"dataframe\">\n",
       "  <thead>\n",
       "    <tr style=\"text-align: right;\">\n",
       "      <th></th>\n",
       "      <th>fa_title</th>\n",
       "      <th>en_title</th>\n",
       "      <th>c_type</th>\n",
       "      <th>complementary</th>\n",
       "      <th>prreq</th>\n",
       "      <th>c_point</th>\n",
       "      <th>point_type</th>\n",
       "      <th>c_hours</th>\n",
       "      <th>c_ex</th>\n",
       "      <th>c_goal1</th>\n",
       "      <th>c_goal2</th>\n",
       "      <th>sar_fasl</th>\n",
       "      <th>c_refs</th>\n",
       "    </tr>\n",
       "  </thead>\n",
       "  <tbody>\n",
       "  </tbody>\n",
       "</table>\n",
       "</div>"
      ],
      "text/plain": [
       "Empty DataFrame\n",
       "Columns: [fa_title, en_title, c_type, complementary, prreq, c_point, point_type, c_hours, c_ex, c_goal1, c_goal2, sar_fasl, c_refs]\n",
       "Index: []"
      ]
     },
     "execution_count": 93,
     "metadata": {},
     "output_type": "execute_result"
    }
   ],
   "source": [
    "# Load the file into file_content\n",
    "file_content = [line for line in open('Computer_Science_15_md.md')]\n",
    "col_names = ['fa_title','en_title','c_type','complementary','prreq',\\\n",
    "                           'c_point','point_type','c_hours','c_ex','c_goal1','c_goal2','sar_fasl','c_refs']\n",
    "df = pd.DataFrame(columns=col_names)\n",
    "\n",
    "fa_col_names = ['عنوان درس (فارسی):', 'عنوان درس (انگلیسی):', 'نوع درس:', 'آموزش تکمیلی:','پیشنیاز:',\\\n",
    "                 'تعداد واحد:', 'نوع واحد:', 'تعداد ساعت:','حل تمرین:', 'هدف کلی:', 'اهداف ویژه:',\\\n",
    "                      'سر فصل یا رئوس مطالب:','فهرست منابع پیشنهادی:']\n",
    "# df.set_index('fa_title',inplace = True)\n",
    "line_no = 0\n",
    "while line_no < len(file_content):\n",
    "    line = file_content[line_no]\n",
    "    pattern = r\"\\| --- \\|\"\n",
    "    result = re.sub(pattern, \"\", line)\n",
    "    # pattern = r\"\\|\"\n",
    "    # result = re.sub(pattern, \"\", result)\n",
    "    srch_str = \"عنوان درس به فارسی:\"\n",
    "    # print(result.find(srch_str))\n",
    "    if result.find(srch_str) != -1:\n",
    "        start_idx = result.find('</a>') + 4\n",
    "        end_idx = result.rfind('</h3>')\n",
    "        fa_title = result[start_idx:end_idx]\n",
    "        fa_title = re.sub('\\*', '', fa_title)\n",
    "        fa_title = fa_title.strip()\n",
    "        line_no += 1\n",
    "        print(fa_title)\n",
    "        continue\n",
    "\n",
    "    srch_str = \"عنوان درس به انگلیسی:\"\n",
    "    # print(result , result.find(srch_str))\n",
    "    if result.find(srch_str) != -1:\n",
    "        start_idx = result.find('|',1)\n",
    "        end_idx = result.find('|',start_idx+1)\n",
    "        en_title = result[start_idx+1:end_idx]\n",
    "        en_title = re.sub('\\*', '', en_title)\n",
    "        en_title = en_title.strip()\n",
    "        # en_file_name = re.sub('\\&', 'and', en_title)\n",
    "        # en_file_name = re.sub(' ', '-', en_file_name)\n",
    "        line_no += 1\n",
    "        print(en_title)\n",
    "        continue\n",
    "    \n",
    "    # tmp_dic = \n",
    "    # Remove leading |\n",
    "    result = result[1:]\n",
    "\n",
    "    if result.find(fa_col_names[2]) != -1:\n",
    "        line_no += 1\n",
    "        line = file_content[line_no]\n",
    "        result = result + line[1:]\n",
    "        result = result.replace(\"\\n\", \"\")\n",
    "        # print(result)\n",
    "    dic_all = {}\n",
    "    for c_no in range(2,9):\n",
    "        col  = fa_col_names[c_no]\n",
    "        srch_str = col\n",
    "        if result.find(srch_str) != -1:\n",
    "            del_idx = result.find('|')\n",
    "            tmp_str = result[len(srch_str)+1:del_idx]\n",
    "            tmp_str = tmp_str.strip()\n",
    "            # print(tmp_str)\n",
    "            # if dic_all:\n",
    "            dic_all.update({col_names[c_no]:tmp_str})\n",
    "            result = result[del_idx+1:]    \n",
    "    if dic_all:\n",
    "        # print('Dic: ', dic_all)\n",
    "        this_course = dic_all.copy()\n",
    "        line_no += 1\n",
    "        continue\n",
    "\n",
    "    srch_str = fa_col_names[-1]\n",
    "    if result.find(srch_str) != -1:\n",
    "        refs = []\n",
    "        line_no += 1\n",
    "        line = file_content[line_no]\n",
    "        while line_no<len(file_content) and line.find(\"عنوان درس (فارسی):\") == -1:\n",
    "            refs.append(line)\n",
    "            line_no += 1\n",
    "            if line_no>= len(file_content):\n",
    "                break\n",
    "            line = file_content[line_no]\n",
    "            # print(line_no)\n",
    "        if line.find(\"عنوان درس (فارسی):\") != -1:\n",
    "            line_no -= 1\n",
    "        # this_course ={'fa_title':fa_title, 'en_title':en_title, 'refs':refs}\n",
    "        this_course.update({'fa_title':fa_title, 'en_title':en_title, 'refs':refs})\n",
    "        df = df.append(this_course,ignore_index=True)\n",
    "    line_no += 1\n",
    "    \n",
    "df"
   ]
  },
  {
   "cell_type": "code",
   "execution_count": 88,
   "metadata": {},
   "outputs": [
    {
     "data": {
      "text/plain": [
       "22"
      ]
     },
     "execution_count": 88,
     "metadata": {},
     "output_type": "execute_result"
    }
   ],
   "source": [
    "result = \"|عنوان درس به انگلیسی:|Calculus I|نوع درس و واحد|\"\n",
    "result.find('|',3)"
   ]
  }
 ],
 "metadata": {
  "kernelspec": {
   "display_name": "pth",
   "language": "python",
   "name": "python3"
  },
  "language_info": {
   "codemirror_mode": {
    "name": "ipython",
    "version": 3
   },
   "file_extension": ".py",
   "mimetype": "text/x-python",
   "name": "python",
   "nbconvert_exporter": "python",
   "pygments_lexer": "ipython3",
   "version": "3.7.11"
  },
  "orig_nbformat": 4
 },
 "nbformat": 4,
 "nbformat_minor": 2
}
