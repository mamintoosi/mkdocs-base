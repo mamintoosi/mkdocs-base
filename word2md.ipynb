{
 "cells": [
  {
   "cell_type": "code",
   "execution_count": 2,
   "metadata": {},
   "outputs": [
    {
     "data": {
      "text/plain": [
       "<aspose.words.saving.SaveOutputParameters object at 0x00000202209C3C50>"
      ]
     },
     "execution_count": 2,
     "metadata": {},
     "output_type": "execute_result"
    }
   ],
   "source": [
    "import aspose.words as aw\n",
    "\n",
    "# Load the document from the disc.\n",
    "doc = aw.Document(\"C:\\\\temp\\\\teaching\\\\kargah\\\\amar.docx\")\n",
    "\n",
    "# Save the document to HTML format.\n",
    "# doc.save(\"amar.html\")\n",
    "\n",
    "doc.save(\"amar.md\")"
   ]
  },
  {
   "cell_type": "code",
   "execution_count": 2,
   "metadata": {},
   "outputs": [],
   "source": [
    "# !pip install mammoth"
   ]
  },
  {
   "cell_type": "code",
   "execution_count": 5,
   "metadata": {},
   "outputs": [
    {
     "name": "stderr",
     "output_type": "stream",
     "text": [
      "Unrecognised paragraph style: No Spacing (Style ID: NoSpacing)\n",
      "Unrecognised paragraph style: Frame Contents (Style ID: FrameContents)\n",
      "Unrecognised paragraph style: List Paragraph (Style ID: ListParagraph)\n",
      "Unrecognised run style: dlibhighlight (Style ID: dlibhighlight)\n"
     ]
    }
   ],
   "source": [
    "!mammoth C:/Dropbox/FUM/CS/CS-Chart.docx CS-Chart.md --output-format=markdown"
   ]
  }
 ],
 "metadata": {
  "kernelspec": {
   "display_name": "pth",
   "language": "python",
   "name": "python3"
  },
  "language_info": {
   "codemirror_mode": {
    "name": "ipython",
    "version": 3
   },
   "file_extension": ".py",
   "mimetype": "text/x-python",
   "name": "python",
   "nbconvert_exporter": "python",
   "pygments_lexer": "ipython3",
   "version": "3.7.11"
  },
  "orig_nbformat": 4
 },
 "nbformat": 4,
 "nbformat_minor": 2
}
